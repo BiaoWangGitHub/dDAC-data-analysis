{
 "cells": [
  {
   "cell_type": "markdown",
   "metadata": {},
   "source": [
    "## High-Temperature Pressure calculation for dDAC data\n",
    "\n",
    "Authors: Biao Wang* and Christian Plückthun, Hauke Marquardt\n",
    "\n",
    "Biao Wang writes the script; Christian Plückthun provides his code as an reference; Hauke Marquardt helps with the methodology and helps to check the accuracy of the calculations\n",
    "\n",
    "email: biao.wang@earth.ox.ac.uk\n",
    "\n",
    "Last update: 2021.11.30\n",
    "\n",
    "### import libraries"
   ]
  },
  {
   "cell_type": "code",
   "execution_count": 1,
   "metadata": {},
   "outputs": [],
   "source": [
    "import os\n",
    "import numpy as np\n",
    "import pandas as pd\n",
    "import matplotlib.pyplot as plt\n",
    "from matplotlib import gridspec\n",
    "from scipy.constants import Avogadro \n",
    "from scipy.constants import gas_constant"
   ]
  },
  {
   "cell_type": "markdown",
   "metadata": {},
   "source": [
    "### bulid functions for further use"
   ]
  },
  {
   "cell_type": "code",
   "execution_count": 2,
   "metadata": {},
   "outputs": [],
   "source": [
    "#############################  3rd BM EoS + Mie-Grüneisen-Relation = high-T Eos  ####################################################\n",
    "lam = 0.4836                     \n",
    "\"\"\" Below you need to modify the parameters for your pressure standard \"\"\"\n",
    "V0 = 67.85                       # Au, Fei et al., 2007\n",
    "K0 = 167                         # Au, Fei et al., 2007\n",
    "K0der = 5.77                     # Au, Fei et al., 2007\n",
    "Gruneisen_V0 = 2.97              # Au, Fei et al., 2007\n",
    "q = 0.6                          # Au, Fei et al., 2007\n",
    "Debye_temperature_V0 = 170       # Au, Fei et al., 2007\n",
    "\"\"\" Above you need to modify the parameters for your pressure standard \"\"\"\n",
    "n=1\n",
    "Z = 4                     \n",
    "def P_HT(twotheta, h, k, l, T):\n",
    "    d = lam / (2 * np.sin(0.5 * twotheta * np.pi /180) )     \n",
    "    a = np.sqrt(h**2 + k**2 + l**2) * d                      \n",
    "    V = a**3                                                 \n",
    "    P_300K = 3/2 * K0 * ((V0/V)**(7/3) - (V0/V)**(5/3)) * (1 - 3/4 * (4 - K0der) * ((V0/V)**(2/3) - 1))\n",
    "    def Debye_Fun(x):\n",
    "        for parameter in range(0,len(x)):\n",
    "            if x[parameter] == 0:\n",
    "                D = 1\n",
    "            elif x[parameter] > 0 and x[parameter] <= 0.1:\n",
    "                D = 1-0.375*x+x**2*(0.05-5.952380953*10**(-4)*x**2)\n",
    "            elif x[parameter] > 0.1 and x[parameter] <= 7.25:\n",
    "                D = ((((0.0946173*x-4.432582)*x+85.07724)*x-800.6087)*x+3953.632)/((((x+15.121491)*x+143.155337)*x+682.0012)*x+3953.632)\n",
    "            elif x[parameter] > 7.25:\n",
    "                N=25/x\n",
    "                D = 0\n",
    "                D2 = 1\n",
    "                if x[parameter] <= 25:\n",
    "                    for i in range(1,math.floor(N)):  #based on a matlab code, have to see if this would work!!! Still needs testing!!!\n",
    "                        D2 = D2*np.exp(-x)\n",
    "                        x3 = i*x\n",
    "                        D = D + D2*((6+x3*(6+x3*(6+x3*(3+x3))))/(1/N**4))\n",
    "                    D = 3*((6.493939402-D)/x**3)    \n",
    "                if x[parameter] > 25:\n",
    "                    D = 3*((6.493939402-D)/x**3)\n",
    "            else:\n",
    "                print('something went wrong!')\n",
    "            return D\n",
    "    Gruneisen_V = Gruneisen_V0*(V/V0)**q\n",
    "    Debye_temperature_V = Debye_temperature_V0*(V/V0)**(-Gruneisen_V)\n",
    "    Debye_Fun_300K = Debye_Fun(Debye_temperature_V/300)\n",
    "    Debye_Fun_HT = Debye_Fun(Debye_temperature_V/T)\n",
    "    E_300K = 3*n*gas_constant*300*Debye_Fun_300K\n",
    "    E_th = 3*n*gas_constant*T*Debye_Fun_HT\n",
    "    P_th = (Gruneisen_V/((V/Z)*(10**-30)*Avogadro)) * (E_th - E_300K)\n",
    "    P_th = P_th/10**9\n",
    "    P = P_300K + P_th\n",
    "    return P\n",
    "############################ 3rd order Birch-Murnaghan Equation of State at room Temperature####################################\n",
    "lam = 0.4836                     \n",
    "\"\"\" Below you need to modify the parameters for your pressure standard \"\"\"\n",
    "V0 = 67.85                       # Au, Fei et al., 2007\n",
    "K0 = 167                         # Au, Fei et al., 2007\n",
    "K0der = 5.77                     # Au, Fei et al., 2007\n",
    "\"\"\" Above you need to modify the parameters for your pressure standard \"\"\"\n",
    "def P_300K_BM(twotheta, h, k, l):\n",
    "    d = lam / (2 * np.sin(0.5 * twotheta * np.pi /180) )\n",
    "    a = np.sqrt(h**2 + k**2 + l**2) * d \n",
    "    V = a**3 \n",
    "    P = 3/2 * K0 * ((V0/V)**(7/3) - (V0/V)**(5/3)) * (1 - 3/4 * (4 - K0der) * ((V0/V)**(2/3) - 1))\n",
    "    return P"
   ]
  },
  {
   "cell_type": "markdown",
   "metadata": {},
   "source": [
    "### import 2-theta of pressure standard from fitResults"
   ]
  },
  {
   "cell_type": "code",
   "execution_count": 3,
   "metadata": {},
   "outputs": [],
   "source": [
    "df_L1 = pd.read_excel(r'HO2_450K_fitResults.xlsx', sheet_name='L1_2thetas')\n",
    "df_L2 = pd.read_excel(r'HO2_450K_fitResults.xlsx', sheet_name='L2_2thetas')"
   ]
  },
  {
   "cell_type": "code",
   "execution_count": 4,
   "metadata": {},
   "outputs": [],
   "source": [
    "fn_L1 = df_L1.fn.to_numpy()\n",
    "au_111_L1 = df_L1.au_111.to_numpy()\n",
    "fn_L2 = df_L2.fn.to_numpy()\n",
    "au_111_L2 = df_L2.au_111.to_numpy()"
   ]
  },
  {
   "cell_type": "markdown",
   "metadata": {},
   "source": [
    "### calculate the pressure using the defined function (have to input 2-theta, hkl and temperature)"
   ]
  },
  {
   "cell_type": "code",
   "execution_count": 5,
   "metadata": {},
   "outputs": [],
   "source": [
    "P_L1_HT = P_HT(au_111_L1, 1, 1, 1, 450) # T in K!!!!\n",
    "P_L1_300K = P_300K_BM(au_111_L1, 1, 1, 1)\n",
    "P_L1_th = P_L1_HT - P_L1_300K\n",
    "\n",
    "P_L2_HT = P_HT(au_111_L2, 1, 1, 1, 450)\n",
    "P_L2_300K = P_300K_BM(au_111_L2, 1, 1, 1)\n",
    "P_L2_th = P_L2_HT - P_L2_300K"
   ]
  },
  {
   "cell_type": "markdown",
   "metadata": {},
   "source": [
    "### plot the pressure as function of file number"
   ]
  },
  {
   "cell_type": "code",
   "execution_count": 6,
   "metadata": {},
   "outputs": [
    {
     "data": {
      "image/png": "[encoded data removed]",
      "text/plain": [
       "<Figure size 504x432 with 4 Axes>"
      ]
     },
     "metadata": {
      "needs_background": "light"
     },
     "output_type": "display_data"
    }
   ],
   "source": [
    "plt.close()\n",
    "fig = plt.figure(figsize=(7,6))\n",
    "gs = gridspec.GridSpec(2,2)\n",
    "\n",
    "ax0 = fig.add_subplot(gs[0])\n",
    "ax0.scatter(fn_L1, P_L1_HT, s=2, c='C0', label='P_450K')\n",
    "ax0.scatter(fn_L1, P_L1_300K, s=2, c='C1', label='P_300K')\n",
    "ax0.legend()\n",
    "ax0.set_xlabel('File number')\n",
    "ax0.set_ylabel('Pressure [GPa]')\n",
    "\n",
    "ax1 = fig.add_subplot(gs[1])\n",
    "ax1.scatter(fn_L2, P_L2_HT, s=2, c='C0', label='P_450K')\n",
    "ax1.scatter(fn_L2, P_L2_300K, s=2, c='C1', label='P_300K')\n",
    "ax1.legend()\n",
    "ax1.set_xlabel('File number')\n",
    "ax1.set_ylabel('Pressure [GPa]')\n",
    "\n",
    "ax2 = fig.add_subplot(gs[2])\n",
    "ax2.scatter(fn_L1, P_L1_th, s=2, c='C2', label='P_th')\n",
    "ax2.legend()\n",
    "ax2.set_xlabel('File number')\n",
    "ax2.set_ylabel('Pressure [GPa]')\n",
    "\n",
    "ax3 = fig.add_subplot(gs[3])\n",
    "ax3.scatter(fn_L2, P_L2_th, s=2, c='C2', label='P_th')\n",
    "ax3.legend()\n",
    "ax3.set_xlabel('File number')\n",
    "ax3.set_ylabel('Pressure [GPa]')\n",
    "\n",
    "fig.tight_layout()"
   ]
  },
  {
   "cell_type": "markdown",
   "metadata": {},
   "source": [
    "### export the calculated pressure"
   ]
  },
  {
   "cell_type": "code",
   "execution_count": 7,
   "metadata": {},
   "outputs": [],
   "source": [
    "results = {'col1': P_L1_HT, 'col2': P_L1_300K, 'col3': P_L1_th}\n",
    "results = pd.DataFrame(results)\n",
    "np.savetxt('calculated_pressure_L1.csv', results, delimiter=',', header='P_L1_HT, P_L1_300K, P_L1_th')\n",
    "os.startfile('calculated_pressure_L1.csv')"
   ]
  },
  {
   "cell_type": "code",
   "execution_count": 8,
   "metadata": {},
   "outputs": [],
   "source": [
    "results = {'coL2': P_L2_HT, 'col2': P_L2_300K, 'col3': P_L2_th}\n",
    "results = pd.DataFrame(results)\n",
    "np.savetxt('calculated_pressure_L2.csv', results, delimiter=',', header='P_L2_HT, P_L2_300K, P_L2_th')\n",
    "os.startfile('calculated_pressure_L2.csv')"
   ]
  }
 ],
 "metadata": {
  "kernelspec": {
   "display_name": "Python 3 (ipykernel)",
   "language": "python",
   "name": "python3"
  },
  "language_info": {
   "codemirror_mode": {
    "name": "ipython",
    "version": 3
   },
   "file_extension": ".py",
   "mimetype": "text/x-python",
   "name": "python",
   "nbconvert_exporter": "python",
   "pygments_lexer": "ipython3",
   "version": "3.8.12"
  }
 },
 "nbformat": 4,
 "nbformat_minor": 4
}
