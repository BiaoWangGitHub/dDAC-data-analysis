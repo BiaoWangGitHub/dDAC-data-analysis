{
 "cells": [
  {
   "cell_type": "markdown",
   "id": "f7adcb42-2bcd-40b7-b022-39637f043d4e",
   "metadata": {},
   "source": [
    "## Differential Stress Calculation Script\n",
    "\n",
    "Authors: Biao Wang*\n",
    "\n",
    "*email: biao.wang@earth.ox.ac.uk\n",
    "\n",
    "Last update: 2021.01.29\n",
    "\n",
    "note: The data used in this calculation from Takemura and Dewaele 2008\n",
    "\n",
    "### import libraries"
   ]
  },
  {
   "cell_type": "code",
   "execution_count": 1,
   "id": "fd579149-02f8-48a9-96c3-8fd892cfa31d",
   "metadata": {},
   "outputs": [],
   "source": [
    "import os\n",
    "import pandas as pd\n",
    "import numpy as np\n",
    "import scipy as scipy\n",
    "import matplotlib.pyplot as plt\n",
    "from matplotlib import gridspec\n",
    "from scipy.stats import linregress"
   ]
  },
  {
   "cell_type": "markdown",
   "id": "ffc0f61a-f0a9-43a1-bcb9-0621bad8d481",
   "metadata": {},
   "source": [
    "### import data"
   ]
  },
  {
   "cell_type": "code",
   "execution_count": 2,
   "id": "6ad7e8c2-47f1-45f9-bb4a-7c494160e9ac",
   "metadata": {},
   "outputs": [],
   "source": [
    "# pressure and cell parameters data from Takemura and Dewaele 2008\n",
    "df_td = pd.read_excel(\"Takemura_&_Dewaele_08_table3.xlsx\")\n",
    "# in the paper, they use this pressure\n",
    "p_td = df_td.p_csz.to_numpy() \n",
    "# p = df.p_pid.to_numpy()\n",
    "# wavelength\n",
    "lam_td = df_td.lam.to_numpy()\n",
    "# cell parameters of Au calculated from different reflections\n",
    "a_au111 = df_td.a_au111.to_numpy()\n",
    "a_au200 = df_td.a_au200.to_numpy()\n",
    "a_au220 = df_td.a_au220.to_numpy()\n",
    "a_au311 = df_td.a_au311.to_numpy()\n",
    "a_au222 = df_td.a_au222.to_numpy()\n",
    "a_au400 = df_td.a_au400.to_numpy()\n",
    "a_au331 = df_td.a_au331.to_numpy()\n",
    "a_au420 = df_td.a_au420.to_numpy()\n",
    "a_au422 = df_td.a_au422.to_numpy()\n",
    "# differential stress calculated in the paper\n",
    "t_td = df_td.t_gpa.to_numpy()\n",
    "# anistropy parameter from Golding et al., 1967 digitilized from Takemura and Dewaele 2008\n",
    "df_bgtd = pd.read_excel(\"Golding_etal_67.xlsx\")\n",
    "p_bgtd = df_bgtd.p.to_numpy()\n",
    "s_bgtd = df_bgtd.s.to_numpy()\n",
    "# bulid a function of anistropy parameter using polynomial fit\n",
    "fs_bgtd = np.poly1d(np.polyfit(p_bgtd, s_bgtd, 6))"
   ]
  },
  {
   "cell_type": "markdown",
   "id": "f4987e19-7e1d-4574-946d-87d0f99f6c71",
   "metadata": {},
   "source": [
    "### bulid functions for further use"
   ]
  },
  {
   "cell_type": "code",
   "execution_count": 3,
   "id": "2d6fbd4b-d211-471e-b1c1-6b07ce2df457",
   "metadata": {},
   "outputs": [],
   "source": [
    "######################### linear function for linear fit ################################\n",
    "# define a fitting function called linear which takes\n",
    "# in the x-data (x) and returns a line with equation\n",
    "# mx+b which best fits the data\n",
    "def linear(x, m, b):\n",
    "    return m*x + b\n",
    "############################ Gama factor calculation ####################################\n",
    "def gama_cal(h, k, l):\n",
    "    gama = (h**2*k**2+k**2*l**2+l**2*h**2)/((h**2+k**2+l**2)**2)\n",
    "    return gama\n",
    "######## sin(thwta)^2 calculation from cell parameter and wavelength ####################\n",
    "def sintheta_sqrt_cal(a, h, k, l):\n",
    "    sintheta_sqrt = ((lam_td**2)*(h**2+k**2+l**2))/(4*a**2)\n",
    "    return sintheta_sqrt"
   ]
  },
  {
   "cell_type": "markdown",
   "id": "425ff9c9-e630-4772-9d08-6471e4d5c583",
   "metadata": {},
   "source": [
    "### anisotropy parameter"
   ]
  },
  {
   "cell_type": "code",
   "execution_count": 4,
   "id": "ae2718d5-eedd-48cd-9d3a-deb1da7e54a4",
   "metadata": {},
   "outputs": [],
   "source": [
    "# use elastic constant from Golding et al., 1967 direct calculated from given data\n",
    "v = a_au111**3\n",
    "v0 = 67.847    # Duffy et al., 1999\n",
    "c11 = 192.4 + 6.73*p_td*(v/v0)**(1/3)   # c110 from Duffy et al., 1999\n",
    "c12 = 163.3 + 5.86*p_td*(v/v0)**(1/3)   # c120 from Duffy et al., 1999\n",
    "c44 = 41.8 + 1.84*p_td*(v/v0)**(1/3)    # c440 from Duffy et al., 1999\n",
    "s_td = 1/(c11-c12) - 1/(2*c44)\n",
    "# # use elastic constant from Hiki & Granato 1966 direct calculated from given data in Takemura and Dewaele\n",
    "# v = a_au111**3\n",
    "# v0 = 67.847    \n",
    "# c11 = 192.4 + 5.72*p_td*(v/v0)**(1/3)   # c110 from Duffy et al., 1999\n",
    "# c12 = 163.3 + 4.96*p_td*(v/v0)**(1/3)   # c120 from Duffy et al., 1999\n",
    "# c44 = 41.8 + 1.52*p_td*(v/v0)**(1/3)    # c440 from Duffy et al., 1999\n",
    "# s = 1/(c11-c12) - 1/(2*c44)"
   ]
  },
  {
   "cell_type": "markdown",
   "id": "72f59cbe-1810-407c-99ea-3e2094ebbbcc",
   "metadata": {},
   "source": [
    "### horizontal axis of gamma plot"
   ]
  },
  {
   "cell_type": "code",
   "execution_count": 5,
   "id": "cf05ae12-172c-44fc-8b9a-0d0a051ea9b6",
   "metadata": {},
   "outputs": [],
   "source": [
    "gama_au111 = 3*(1-3*sintheta_sqrt_cal(a_au111, 1, 1, 1))*gama_cal(1, 1, 1)\n",
    "gama_au200 = 3*(1-3*sintheta_sqrt_cal(a_au200, 2, 0, 0))*gama_cal(2, 0, 0)\n",
    "gama_au220 = 3*(1-3*sintheta_sqrt_cal(a_au220, 2, 2, 0))*gama_cal(2, 2, 0)\n",
    "gama_au311 = 3*(1-3*sintheta_sqrt_cal(a_au311, 3, 1, 1))*gama_cal(3, 1, 1)\n",
    "gama_au222 = 3*(1-3*sintheta_sqrt_cal(a_au222, 2, 2, 2))*gama_cal(2, 2, 2)\n",
    "gama_au400 = 3*(1-3*sintheta_sqrt_cal(a_au400, 4, 0, 0))*gama_cal(4, 0, 0)\n",
    "gama_au331 = 3*(1-3*sintheta_sqrt_cal(a_au331, 3, 3, 1))*gama_cal(3, 3, 1)\n",
    "gama_au420 = 3*(1-3*sintheta_sqrt_cal(a_au420, 4, 2, 0))*gama_cal(4, 2, 0)\n",
    "gama_au422 = 3*(1-3*sintheta_sqrt_cal(a_au422, 4, 2, 2))*gama_cal(4, 2, 2)"
   ]
  },
  {
   "cell_type": "markdown",
   "id": "f5c4916d-3064-4142-99ff-40770f22785a",
   "metadata": {},
   "source": [
    "### differential stress calculation (linregress)"
   ]
  },
  {
   "cell_type": "code",
   "execution_count": 8,
   "id": "473609b1-3fdd-4cf9-a694-774847c4ea21",
   "metadata": {},
   "outputs": [],
   "source": [
    "\"\"\" Au peaks \"\"\"\n",
    "# au111\n",
    "x1 = gama_au111\n",
    "y1 = a_au111\n",
    "# au200\n",
    "x2 = gama_au200\n",
    "y2 = a_au200\n",
    "# au220\n",
    "x3 = gama_au220\n",
    "y3 = a_au220\n",
    "# au311\n",
    "x4 = gama_au311\n",
    "y4 = a_au311\n",
    "# au222\n",
    "x5 = gama_au222\n",
    "y5 = a_au222\n",
    "# au400\n",
    "x6 = gama_au400\n",
    "y6 = a_au400\n",
    "# au331\n",
    "x7 = gama_au331\n",
    "y7 = a_au331\n",
    "# au420\n",
    "x8 = gama_au420\n",
    "y8 = a_au420\n",
    "# au422\n",
    "x9 = gama_au422\n",
    "y9 = a_au422\n",
    "# calculate slopes m1 and intercepts m0\n",
    "slopes = []\n",
    "intercepts = [] \n",
    "for i in range(0,len(p_td)):\n",
    "    x = [x1[i],x2[i],x3[i],x4[i],x5[i],x6[i],x7[i],x8[i],x9[i]]\n",
    "    y = [y1[i],y2[i],y3[i],y4[i],y5[i],y6[i],y7[i],y8[i],y9[i]]\n",
    "    # x = [x1[i],x2[i],x3[i]]\n",
    "    # y = [y1[i],y2[i],y3[i]]\n",
    "    cleanx = [x for x in x if str(x) != 'nan']\n",
    "    cleany = [x for x in y if str(x) != 'nan']\n",
    "    result = linregress(cleanx, cleany)\n",
    "    slope = result.slope\n",
    "    intercept = result.intercept\n",
    "    slopes.append(slope)\n",
    "    intercepts.append(intercept)\n",
    "m1 = slopes # slope for stress cal\n",
    "m0 = intercepts # intercept for stress cal\n",
    "# lower bound of stress\n",
    "t_td_cal = (-3)*(m1/(m0*s_td))\n",
    "# t_cal = (-3)*(m1/(m0*fs_bgtd(p)))"
   ]
  },
  {
   "cell_type": "markdown",
   "id": "e8ffe103-8c6c-4931-ac8d-8bebd280f5cd",
   "metadata": {},
   "source": [
    "### differential stress calculation (linear curve fit)"
   ]
  },
  {
   "cell_type": "code",
   "execution_count": 7,
   "id": "2a6ad77a-a609-4982-ab51-c3104a95aeed",
   "metadata": {},
   "outputs": [
    {
     "ename": "NameError",
     "evalue": "name 'p' is not defined",
     "output_type": "error",
     "traceback": [
      "\u001b[1;31m---------------------------------------------------------------------------\u001b[0m",
      "\u001b[1;31mNameError\u001b[0m                                 Traceback (most recent call last)",
      "\u001b[1;32m~\\AppData\\Local\\Temp/ipykernel_32496/1204716570.py\u001b[0m in \u001b[0;36m<module>\u001b[1;34m\u001b[0m\n\u001b[0;32m     32\u001b[0m \u001b[0mslopes\u001b[0m \u001b[1;33m=\u001b[0m \u001b[1;33m[\u001b[0m\u001b[1;33m]\u001b[0m\u001b[1;33m\u001b[0m\u001b[1;33m\u001b[0m\u001b[0m\n\u001b[0;32m     33\u001b[0m \u001b[0mintercepts\u001b[0m \u001b[1;33m=\u001b[0m \u001b[1;33m[\u001b[0m\u001b[1;33m]\u001b[0m\u001b[1;33m\u001b[0m\u001b[1;33m\u001b[0m\u001b[0m\n\u001b[1;32m---> 34\u001b[1;33m \u001b[1;32mfor\u001b[0m \u001b[0mi\u001b[0m \u001b[1;32min\u001b[0m \u001b[0mrange\u001b[0m\u001b[1;33m(\u001b[0m\u001b[1;36m0\u001b[0m\u001b[1;33m,\u001b[0m\u001b[0mlen\u001b[0m\u001b[1;33m(\u001b[0m\u001b[0mp\u001b[0m\u001b[1;33m)\u001b[0m\u001b[1;33m)\u001b[0m\u001b[1;33m:\u001b[0m\u001b[1;33m\u001b[0m\u001b[1;33m\u001b[0m\u001b[0m\n\u001b[0m\u001b[0;32m     35\u001b[0m     \u001b[0mx\u001b[0m \u001b[1;33m=\u001b[0m \u001b[1;33m[\u001b[0m\u001b[0mx1\u001b[0m\u001b[1;33m[\u001b[0m\u001b[0mi\u001b[0m\u001b[1;33m]\u001b[0m\u001b[1;33m,\u001b[0m\u001b[0mx2\u001b[0m\u001b[1;33m[\u001b[0m\u001b[0mi\u001b[0m\u001b[1;33m]\u001b[0m\u001b[1;33m,\u001b[0m\u001b[0mx3\u001b[0m\u001b[1;33m[\u001b[0m\u001b[0mi\u001b[0m\u001b[1;33m]\u001b[0m\u001b[1;33m,\u001b[0m\u001b[0mx4\u001b[0m\u001b[1;33m[\u001b[0m\u001b[0mi\u001b[0m\u001b[1;33m]\u001b[0m\u001b[1;33m,\u001b[0m\u001b[0mx5\u001b[0m\u001b[1;33m[\u001b[0m\u001b[0mi\u001b[0m\u001b[1;33m]\u001b[0m\u001b[1;33m,\u001b[0m\u001b[0mx6\u001b[0m\u001b[1;33m[\u001b[0m\u001b[0mi\u001b[0m\u001b[1;33m]\u001b[0m\u001b[1;33m,\u001b[0m\u001b[0mx7\u001b[0m\u001b[1;33m[\u001b[0m\u001b[0mi\u001b[0m\u001b[1;33m]\u001b[0m\u001b[1;33m,\u001b[0m\u001b[0mx8\u001b[0m\u001b[1;33m[\u001b[0m\u001b[0mi\u001b[0m\u001b[1;33m]\u001b[0m\u001b[1;33m,\u001b[0m\u001b[0mx9\u001b[0m\u001b[1;33m[\u001b[0m\u001b[0mi\u001b[0m\u001b[1;33m]\u001b[0m\u001b[1;33m]\u001b[0m\u001b[1;33m\u001b[0m\u001b[1;33m\u001b[0m\u001b[0m\n\u001b[0;32m     36\u001b[0m     \u001b[0my\u001b[0m \u001b[1;33m=\u001b[0m \u001b[1;33m[\u001b[0m\u001b[0my1\u001b[0m\u001b[1;33m[\u001b[0m\u001b[0mi\u001b[0m\u001b[1;33m]\u001b[0m\u001b[1;33m,\u001b[0m\u001b[0my2\u001b[0m\u001b[1;33m[\u001b[0m\u001b[0mi\u001b[0m\u001b[1;33m]\u001b[0m\u001b[1;33m,\u001b[0m\u001b[0my3\u001b[0m\u001b[1;33m[\u001b[0m\u001b[0mi\u001b[0m\u001b[1;33m]\u001b[0m\u001b[1;33m,\u001b[0m\u001b[0my4\u001b[0m\u001b[1;33m[\u001b[0m\u001b[0mi\u001b[0m\u001b[1;33m]\u001b[0m\u001b[1;33m,\u001b[0m\u001b[0my5\u001b[0m\u001b[1;33m[\u001b[0m\u001b[0mi\u001b[0m\u001b[1;33m]\u001b[0m\u001b[1;33m,\u001b[0m\u001b[0my6\u001b[0m\u001b[1;33m[\u001b[0m\u001b[0mi\u001b[0m\u001b[1;33m]\u001b[0m\u001b[1;33m,\u001b[0m\u001b[0my7\u001b[0m\u001b[1;33m[\u001b[0m\u001b[0mi\u001b[0m\u001b[1;33m]\u001b[0m\u001b[1;33m,\u001b[0m\u001b[0my8\u001b[0m\u001b[1;33m[\u001b[0m\u001b[0mi\u001b[0m\u001b[1;33m]\u001b[0m\u001b[1;33m,\u001b[0m\u001b[0my9\u001b[0m\u001b[1;33m[\u001b[0m\u001b[0mi\u001b[0m\u001b[1;33m]\u001b[0m\u001b[1;33m]\u001b[0m\u001b[1;33m\u001b[0m\u001b[1;33m\u001b[0m\u001b[0m\n",
      "\u001b[1;31mNameError\u001b[0m: name 'p' is not defined"
     ]
    }
   ],
   "source": [
    "\"\"\" Au peaks \"\"\"\n",
    "# au111\n",
    "x1 = gama_au111\n",
    "y1 = a_au111\n",
    "# au200\n",
    "x2 = gama_au200\n",
    "y2 = a_au200\n",
    "# au220\n",
    "x3 = gama_au220\n",
    "y3 = a_au220\n",
    "# au311\n",
    "x4 = gama_au311\n",
    "y4 = a_au311\n",
    "# au222\n",
    "x5 = gama_au222\n",
    "y5 = a_au222\n",
    "# au400\n",
    "x6 = gama_au400\n",
    "y6 = a_au400\n",
    "# au331\n",
    "x7 = gama_au331\n",
    "y7 = a_au331\n",
    "# au420\n",
    "x8 = gama_au420\n",
    "y8 = a_au420\n",
    "# au422\n",
    "x9 = gama_au422\n",
    "y9 = a_au422\n",
    "# calculate slopes m1 and intercepts m0\n",
    "popts = []\n",
    "perrs = []\n",
    "slopes = []\n",
    "intercepts = []\n",
    "for i in range(0,len(p_td)):\n",
    "    x = [x1[i],x2[i],x3[i],x4[i],x5[i],x6[i],x7[i],x8[i],x9[i]]\n",
    "    y = [y1[i],y2[i],y3[i],y4[i],y5[i],y6[i],y7[i],y8[i],y9[i]]\n",
    "#     x = [x1[i],x2[i],x3[i]]\n",
    "#     y = [y1[i],y2[i],y3[i]]\n",
    "    cleanx = [x for x in x if str(x) != 'nan']\n",
    "    cleany = [x for x in y if str(x) != 'nan']\n",
    "    popt, pcov = scipy.optimize.curve_fit(linear, cleanx, cleany, p0=[((y1[i]-y2[i])/(x1[i]-x2[i])), y2[i]])\n",
    "    popts.append(popt)\n",
    "    perrs.append(np.sqrt(np.diag(pcov)))\n",
    "    slopes.append(popt[0])\n",
    "    intercepts.append(popt[1]) \n",
    "m1 = slopes # slope for stress cal\n",
    "m0 = intercepts # intercept for stress cal\n",
    "# # lower bound of stress\n",
    "t_cal = (-3)*(m1/(m0*s))\n",
    "# t_cal = (-3)*(m1/(m0*fs_bgtd(p)))"
   ]
  },
  {
   "cell_type": "markdown",
   "id": "d9b294df-b133-40a0-b930-1a6de037142d",
   "metadata": {},
   "source": [
    "### compare calculated differential stress with paper"
   ]
  },
  {
   "cell_type": "code",
   "execution_count": 9,
   "id": "a36d552a-fabb-46aa-b457-0e18542d34e5",
   "metadata": {},
   "outputs": [
    {
     "data": {
      "image/png": "[encoded data removed]",
      "text/plain": [
       "<Figure size 460.8x460.8 with 1 Axes>"
      ]
     },
     "metadata": {
      "needs_background": "light"
     },
     "output_type": "display_data"
    }
   ],
   "source": [
    "# plt.close()\n",
    "fig = plt.figure(figsize=(6.4, 6.4))\n",
    "gs = gridspec.GridSpec(1,1)\n",
    "ax0 = fig.add_subplot(gs[0])\n",
    "ax0.plot(p_td, t_td, \"o\", c=\"C0\", label=\"Takemura & Dewaele (2008)\")\n",
    "ax0.plot(p_td, t_td_cal, \"o\", c=\"C1\", label=\"Biao\")\n",
    "# ax0.plot(p_td, t_td-t_td_cal, \"o\", c=\"C2\")\n",
    "ax0.legend()\n",
    "ax0.set_ylim(-1.2, 1.8)\n",
    "ax0.set_xlabel(\"pressure [GPa]\")\n",
    "ax0.set_ylabel(\"t [GPa]\")\n",
    "plt.savefig(\"diffstress_takemura_and_dewaele_08.png\", dpi=600)\n",
    "os.startfile(\"diffstress_takemura_and_dewaele_08.png\")"
   ]
  },
  {
   "cell_type": "markdown",
   "id": "84caee7b-94ed-4ff4-a862-69b8e34d481b",
   "metadata": {},
   "source": [
    "### compare the gamma plot at 117 GPa"
   ]
  },
  {
   "cell_type": "code",
   "execution_count": 10,
   "id": "657ab9c0-8963-4da2-b1d8-017ea7ab5002",
   "metadata": {},
   "outputs": [],
   "source": [
    "# calculated gamma plot data at 117 GPa\n",
    "p_td[84] \n",
    "gama_td117 = [x1[84],x2[84],x3[84],x4[84],x5[84],x6[84],x7[84],x8[84],x9[84]]\n",
    "a_td117 = [y1[84],y2[84],y3[84],y4[84],y5[84],y6[84],y7[84],y8[84],y9[84]]\n",
    "# gamma plot fit at 117 GPa\n",
    "gama_td117fit = np.linspace(0, 1, 10)\n",
    "a_td117fit = linear(gama_td117fit, m1[84], m0[84])"
   ]
  },
  {
   "cell_type": "code",
   "execution_count": 14,
   "id": "1748ad0e-2d4f-4717-b2ad-5d97b818bc85",
   "metadata": {},
   "outputs": [],
   "source": [
    "# digitilized data at 117GPa\n",
    "df_fig8 = pd.read_excel(r\"Takemura_&_Dewaele_08_fig8f.xlsx\")\n",
    "gama_fig8 = df_fig8.x.to_numpy()\n",
    "a_fig8 = df_fig8.y.to_numpy()\n",
    "gama_fig8_fit = df_fig8.x_fit.to_numpy()\n",
    "a_fig8_fit = df_fig8.y_fit.to_numpy()"
   ]
  },
  {
   "cell_type": "code",
   "execution_count": 15,
   "id": "729db2b3-4ed1-42eb-8a31-288664cfdbd0",
   "metadata": {},
   "outputs": [
    {
     "data": {
      "image/png": "[encoded data removed]",
      "text/plain": [
       "<Figure size 921.6x460.8 with 2 Axes>"
      ]
     },
     "metadata": {
      "needs_background": "light"
     },
     "output_type": "display_data"
    }
   ],
   "source": [
    "# plt.close()\n",
    "fig = plt.figure(figsize=(12.8, 6.4))\n",
    "gs = gridspec.GridSpec(1,2)\n",
    "ax0 = fig.add_subplot(gs[0])\n",
    "ax0.plot(p_td, t_td, \"o\", c=\"C0\", label=\"Takemura & Dewaele (2008)\")\n",
    "ax0.plot(p_td, t_td_cal, \"o\", c=\"C1\", label=\"Biao\")\n",
    "# ax0.plot(p_td, t_td-t_td_cal, \"o\", c=\"C2\")\n",
    "ax0.legend()\n",
    "ax0.set_ylim(-1.2, 1.8)\n",
    "ax0.set_xlabel(\"pressure [GPa]\")\n",
    "ax0.set_ylabel(\"t [GPa]\")\n",
    "ax0.set_title(\"differential stress as function of pressure\")\n",
    "ax1 = fig.add_subplot(gs[1])\n",
    "ax1.plot(gama_fig8, a_fig8, \"o\", c=\"C0\", label=\"Takemura & Dewaele (2008)\")\n",
    "ax1.plot(gama_fig8_fit, a_fig8_fit, c=\"C0\", label=\"Fit Takemura & Dewaele (2008)\")\n",
    "ax1.plot(gama_td117, a_td117, \"o\", c=\"C1\", label=\"Biao\")\n",
    "ax1.plot(gama_td117fit, a_td117fit, c=\"C1\", label=\"Fit Biao\")\n",
    "ax1.set_title(\"gamma plot and fitting for 117GPa experiment\")\n",
    "ax1.legend()\n",
    "plt.savefig(\"diffstress_takemura_and_dewaele_08(1).png\", dpi=600)\n",
    "os.startfile(\"diffstress_takemura_and_dewaele_08(1).png\")"
   ]
  },
  {
   "cell_type": "code",
   "execution_count": 14,
   "id": "fc535ef6-1edc-4a24-ba72-4f4d6ab988f1",
   "metadata": {},
   "outputs": [],
   "source": [
    "results = {\"col1\":t_cal}\n",
    "results = pd.DataFrame(results)\n",
    "np.savetxt(\"calculated_t.csv\", results, delimiter=\",\", header=\"tcal\")\n",
    "os.startfile(\"calculated_t.csv\")"
   ]
  },
  {
   "cell_type": "markdown",
   "id": "3308cb59-30d3-4b1f-8bc7-34146c602416",
   "metadata": {},
   "source": [
    "Knowledge needs to be shared, and those who create it need to be respected."
   ]
  }
 ],
 "metadata": {
  "kernelspec": {
   "display_name": "Python 3 (ipykernel)",
   "language": "python",
   "name": "python3"
  },
  "language_info": {
   "codemirror_mode": {
    "name": "ipython",
    "version": 3
   },
   "file_extension": ".py",
   "mimetype": "text/x-python",
   "name": "python",
   "nbconvert_exporter": "python",
   "pygments_lexer": "ipython3",
   "version": "3.8.12"
  }
 },
 "nbformat": 4,
 "nbformat_minor": 5
}
